{
 "cells": [
  {
   "cell_type": "markdown",
   "metadata": {},
   "source": [
    "## __The Movie Lens Dataset__"
   ]
  },
  {
   "cell_type": "code",
   "execution_count": 38,
   "metadata": {},
   "outputs": [],
   "source": [
    "import pandas as pd\n",
    "import numpy as np\n",
    "from numpy import random\n",
    "import scipy\n",
    "import scipy.sparse\n",
    "data_dir = \"data/\"\n",
    "data_shape = (943, 1682)\n",
    "df = pd.read_csv(data_dir + \"u.data\", sep=\"\\t\", header=None)\n",
    "values = df.values"
   ]
  },
  {
   "cell_type": "code",
   "execution_count": 39,
   "metadata": {},
   "outputs": [
    {
     "data": {
      "text/html": [
       "<div>\n",
       "<style scoped>\n",
       "    .dataframe tbody tr th:only-of-type {\n",
       "        vertical-align: middle;\n",
       "    }\n",
       "\n",
       "    .dataframe tbody tr th {\n",
       "        vertical-align: top;\n",
       "    }\n",
       "\n",
       "    .dataframe thead th {\n",
       "        text-align: right;\n",
       "    }\n",
       "</style>\n",
       "<table border=\"1\" class=\"dataframe\">\n",
       "  <thead>\n",
       "    <tr style=\"text-align: right;\">\n",
       "      <th></th>\n",
       "      <th>0</th>\n",
       "      <th>1</th>\n",
       "      <th>2</th>\n",
       "      <th>3</th>\n",
       "    </tr>\n",
       "  </thead>\n",
       "  <tbody>\n",
       "    <tr>\n",
       "      <th>0</th>\n",
       "      <td>196</td>\n",
       "      <td>242</td>\n",
       "      <td>3</td>\n",
       "      <td>881250949</td>\n",
       "    </tr>\n",
       "    <tr>\n",
       "      <th>1</th>\n",
       "      <td>186</td>\n",
       "      <td>302</td>\n",
       "      <td>3</td>\n",
       "      <td>891717742</td>\n",
       "    </tr>\n",
       "    <tr>\n",
       "      <th>2</th>\n",
       "      <td>22</td>\n",
       "      <td>377</td>\n",
       "      <td>1</td>\n",
       "      <td>878887116</td>\n",
       "    </tr>\n",
       "    <tr>\n",
       "      <th>3</th>\n",
       "      <td>244</td>\n",
       "      <td>51</td>\n",
       "      <td>2</td>\n",
       "      <td>880606923</td>\n",
       "    </tr>\n",
       "    <tr>\n",
       "      <th>4</th>\n",
       "      <td>166</td>\n",
       "      <td>346</td>\n",
       "      <td>1</td>\n",
       "      <td>886397596</td>\n",
       "    </tr>\n",
       "  </tbody>\n",
       "</table>\n",
       "</div>"
      ],
      "text/plain": [
       "     0    1  2          3\n",
       "0  196  242  3  881250949\n",
       "1  186  302  3  891717742\n",
       "2   22  377  1  878887116\n",
       "3  244   51  2  880606923\n",
       "4  166  346  1  886397596"
      ]
     },
     "execution_count": 39,
     "metadata": {},
     "output_type": "execute_result"
    }
   ],
   "source": [
    "df.head()"
   ]
  },
  {
   "cell_type": "code",
   "execution_count": 40,
   "metadata": {},
   "outputs": [
    {
     "name": "stdout",
     "output_type": "stream",
     "text": [
      "<class 'pandas.core.frame.DataFrame'>\n",
      "RangeIndex: 100000 entries, 0 to 99999\n",
      "Data columns (total 4 columns):\n",
      " #   Column  Non-Null Count   Dtype\n",
      "---  ------  --------------   -----\n",
      " 0   0       100000 non-null  int64\n",
      " 1   1       100000 non-null  int64\n",
      " 2   2       100000 non-null  int64\n",
      " 3   3       100000 non-null  int64\n",
      "dtypes: int64(4)\n",
      "memory usage: 3.1 MB\n"
     ]
    }
   ],
   "source": [
    "df.info()"
   ]
  },
  {
   "cell_type": "code",
   "execution_count": 41,
   "metadata": {},
   "outputs": [
    {
     "data": {
      "text/html": [
       "<div>\n",
       "<style scoped>\n",
       "    .dataframe tbody tr th:only-of-type {\n",
       "        vertical-align: middle;\n",
       "    }\n",
       "\n",
       "    .dataframe tbody tr th {\n",
       "        vertical-align: top;\n",
       "    }\n",
       "\n",
       "    .dataframe thead th {\n",
       "        text-align: right;\n",
       "    }\n",
       "</style>\n",
       "<table border=\"1\" class=\"dataframe\">\n",
       "  <thead>\n",
       "    <tr style=\"text-align: right;\">\n",
       "      <th></th>\n",
       "      <th>0</th>\n",
       "      <th>1</th>\n",
       "      <th>2</th>\n",
       "      <th>3</th>\n",
       "    </tr>\n",
       "  </thead>\n",
       "  <tbody>\n",
       "    <tr>\n",
       "      <th>count</th>\n",
       "      <td>100000.00000</td>\n",
       "      <td>100000.000000</td>\n",
       "      <td>100000.000000</td>\n",
       "      <td>1.000000e+05</td>\n",
       "    </tr>\n",
       "    <tr>\n",
       "      <th>mean</th>\n",
       "      <td>462.48475</td>\n",
       "      <td>425.530130</td>\n",
       "      <td>3.529860</td>\n",
       "      <td>8.835289e+08</td>\n",
       "    </tr>\n",
       "    <tr>\n",
       "      <th>std</th>\n",
       "      <td>266.61442</td>\n",
       "      <td>330.798356</td>\n",
       "      <td>1.125674</td>\n",
       "      <td>5.343856e+06</td>\n",
       "    </tr>\n",
       "    <tr>\n",
       "      <th>min</th>\n",
       "      <td>1.00000</td>\n",
       "      <td>1.000000</td>\n",
       "      <td>1.000000</td>\n",
       "      <td>8.747247e+08</td>\n",
       "    </tr>\n",
       "    <tr>\n",
       "      <th>25%</th>\n",
       "      <td>254.00000</td>\n",
       "      <td>175.000000</td>\n",
       "      <td>3.000000</td>\n",
       "      <td>8.794487e+08</td>\n",
       "    </tr>\n",
       "    <tr>\n",
       "      <th>50%</th>\n",
       "      <td>447.00000</td>\n",
       "      <td>322.000000</td>\n",
       "      <td>4.000000</td>\n",
       "      <td>8.828269e+08</td>\n",
       "    </tr>\n",
       "    <tr>\n",
       "      <th>75%</th>\n",
       "      <td>682.00000</td>\n",
       "      <td>631.000000</td>\n",
       "      <td>4.000000</td>\n",
       "      <td>8.882600e+08</td>\n",
       "    </tr>\n",
       "    <tr>\n",
       "      <th>max</th>\n",
       "      <td>943.00000</td>\n",
       "      <td>1682.000000</td>\n",
       "      <td>5.000000</td>\n",
       "      <td>8.932866e+08</td>\n",
       "    </tr>\n",
       "  </tbody>\n",
       "</table>\n",
       "</div>"
      ],
      "text/plain": [
       "                  0              1              2             3\n",
       "count  100000.00000  100000.000000  100000.000000  1.000000e+05\n",
       "mean      462.48475     425.530130       3.529860  8.835289e+08\n",
       "std       266.61442     330.798356       1.125674  5.343856e+06\n",
       "min         1.00000       1.000000       1.000000  8.747247e+08\n",
       "25%       254.00000     175.000000       3.000000  8.794487e+08\n",
       "50%       447.00000     322.000000       4.000000  8.828269e+08\n",
       "75%       682.00000     631.000000       4.000000  8.882600e+08\n",
       "max       943.00000    1682.000000       5.000000  8.932866e+08"
      ]
     },
     "execution_count": 41,
     "metadata": {},
     "output_type": "execute_result"
    }
   ],
   "source": [
    "df.describe()"
   ]
  },
  {
   "cell_type": "markdown",
   "metadata": {},
   "source": [
    "It is preferable to begin with the MovieLens 100K Dataset for many reasons:\n",
    "- It is a stable dataset (Released 4/1998)\n",
    "- It's reasonable size will make life easier for our computer while doing calculations (calculations on bigger datasets might take more time and require more power capacity)"
   ]
  },
  {
   "cell_type": "markdown",
   "metadata": {},
   "source": [
    "The __*df*__ differs from the rating matrix __*values*__ since the latter is a mathematical tool without column names, just containing the values of the initial dataframe."
   ]
  },
  {
   "cell_type": "markdown",
   "metadata": {},
   "source": [
    "## __Data Preprocessing__"
   ]
  },
  {
   "cell_type": "code",
   "execution_count": 42,
   "metadata": {},
   "outputs": [],
   "source": [
    " M = scipy.sparse.csr_matrix((values[:, 2], (values[:, 0]-1, values[:, 1]-1)), dtype=float, shape=\n",
    "     data_shape)"
   ]
  },
  {
   "cell_type": "markdown",
   "metadata": {},
   "source": [
    "In a sparse matrix, the missing values are implicitly coded as zeros."
   ]
  },
  {
   "cell_type": "code",
   "execution_count": 43,
   "metadata": {},
   "outputs": [],
   "source": [
    "# We will extract the non-zero indices to schuffle the corresponding lines and create our train/test data matrices:\n",
    "\n",
    "rows, cols = M.nonzero() # the indices\n",
    "data = M.data # the values\n",
    "\n",
    "n_nonzeros = len(data)\n",
    "indices = np.arange(n_nonzeros)\n",
    "np.random.shuffle(indices) # we schuffle randomly the indices\n",
    "\n",
    "# We create the train/test matrices, using 90% for training and 10 % for testing:\n",
    "train_size = int(0.9*n_nonzeros)\n",
    "train_indices = indices[:train_size]\n",
    "test_indices = indices[train_size:]\n",
    "\n",
    "M_train = scipy.sparse.csr_matrix((data[train_indices],\n",
    "                      (rows[train_indices], cols[train_indices])),\n",
    "                     shape=M.shape)\n",
    "\n",
    "M_test = scipy.sparse.csr_matrix((data[test_indices],\n",
    "                     (rows[test_indices], cols[test_indices])),\n",
    "                    shape=M.shape)\n"
   ]
  },
  {
   "cell_type": "code",
   "execution_count": 44,
   "metadata": {},
   "outputs": [
    {
     "data": {
      "text/plain": [
       "<943x1682 sparse matrix of type '<class 'numpy.float64'>'\n",
       "\twith 90000 stored elements in Compressed Sparse Row format>"
      ]
     },
     "execution_count": 44,
     "metadata": {},
     "output_type": "execute_result"
    }
   ],
   "source": [
    "M_train"
   ]
  },
  {
   "cell_type": "code",
   "execution_count": 45,
   "metadata": {},
   "outputs": [
    {
     "data": {
      "text/plain": [
       "<943x1682 sparse matrix of type '<class 'numpy.float64'>'\n",
       "\twith 10000 stored elements in Compressed Sparse Row format>"
      ]
     },
     "execution_count": 45,
     "metadata": {},
     "output_type": "execute_result"
    }
   ],
   "source": [
    "M_test"
   ]
  },
  {
   "cell_type": "code",
   "execution_count": 52,
   "metadata": {},
   "outputs": [
    {
     "name": "stdout",
     "output_type": "stream",
     "text": [
      "The global mean of the ratings given by the users if 3.5.\n"
     ]
    }
   ],
   "source": [
    "# We will compute the global mean of ratings given by the users to the movies:\n",
    "\n",
    "global_mean = M_train.sum() / n_nonzeros # We compute the global mean on the train data, to then center and compute the test error\n",
    "\n",
    "print(f\"The global mean of the ratings given by the users if {mean:.1f}.\")"
   ]
  },
  {
   "cell_type": "code",
   "execution_count": 60,
   "metadata": {},
   "outputs": [
    {
     "name": "stdout",
     "output_type": "stream",
     "text": [
      "The test error when predicting missing values is 1.4.\n"
     ]
    }
   ],
   "source": [
    "# We center the data:\n",
    "M_train_centered = M_train.copy()\n",
    "M_train_centered.data -= global_mean\n",
    "\n",
    "# We compute the test error when predicting missing values by the mean:\n",
    "test_data = M_test.data\n",
    "test_predictions = np.full(test_data.shape, global_mean)\n",
    "\n",
    "test_error = np.mean((test_data - test_predictions)**2)\n",
    "print(f\"The test error when predicting missing values is {test_error:.1f}.\")"
   ]
  },
  {
   "cell_type": "markdown",
   "metadata": {},
   "source": [
    "The test error is quite high, knowing the ranking vary from 0 to 5."
   ]
  },
  {
   "cell_type": "markdown",
   "metadata": {},
   "source": [
    "## __Recommending using SVD__"
   ]
  },
  {
   "cell_type": "code",
   "execution_count": 61,
   "metadata": {},
   "outputs": [
    {
     "data": {
      "text/plain": [
       "(943, 1682)"
      ]
     },
     "execution_count": 61,
     "metadata": {},
     "output_type": "execute_result"
    }
   ],
   "source": [
    "M_train_centered.shape"
   ]
  },
  {
   "cell_type": "code",
   "execution_count": 64,
   "metadata": {},
   "outputs": [
    {
     "name": "stdout",
     "output_type": "stream",
     "text": [
      "The 20 first factors of the SVD of the centered training data are: [116.55631993  60.79185499  53.55184091  45.79110955  43.5894206\n",
      "  39.38393386  38.3368326   36.38139767  33.63239693  33.3742132\n",
      "  32.13609166  30.67181126  30.06734815  28.87872289  28.69232607\n",
      "  28.49670936  27.87719778  27.70596551  27.2333393   26.92482414]\n"
     ]
    }
   ],
   "source": [
    "# We compute the 20 first factors of the SVD of the centered training data:\n",
    "k = 20  # Number of factors\n",
    "U, S, Vt = scipy.sparse.linalg.svds(M_train_centered, k=k)\n",
    "\n",
    "# We sort the values in the descending order:\n",
    "U, S, Vt = U[:, ::-1], S[::-1], Vt[::-1, :]\n",
    "\n",
    "print(\"The 20 first factors of the SVD of the centered training data are:\", S)"
   ]
  },
  {
   "cell_type": "code",
   "execution_count": 70,
   "metadata": {},
   "outputs": [
    {
     "name": "stdout",
     "output_type": "stream",
     "text": [
      "Number of factors: 1, MSE: 1.16\n",
      "Number of factors: 2, MSE: 1.12\n",
      "Number of factors: 3, MSE: 1.11\n",
      "Number of factors: 4, MSE: 1.09\n",
      "Number of factors: 5, MSE: 1.07\n",
      "Number of factors: 6, MSE: 1.06\n",
      "Number of factors: 7, MSE: 1.06\n",
      "Number of factors: 8, MSE: 1.05\n",
      "Number of factors: 9, MSE: 1.05\n",
      "Number of factors: 10, MSE: 1.04\n",
      "Number of factors: 11, MSE: 1.04\n",
      "Number of factors: 12, MSE: 1.04\n",
      "Number of factors: 13, MSE: 1.04\n",
      "Number of factors: 14, MSE: 1.04\n",
      "Number of factors: 15, MSE: 1.04\n",
      "Number of factors: 16, MSE: 1.04\n",
      "Number of factors: 17, MSE: 1.04\n",
      "Number of factors: 18, MSE: 1.04\n",
      "Number of factors: 19, MSE: 1.04\n",
      "Number of factors: 20, MSE: 1.05\n"
     ]
    },
    {
     "data": {
      "image/png": "[encoded data removed]",
      "text/plain": [
       "<Figure size 500x300 with 1 Axes>"
      ]
     },
     "metadata": {},
     "output_type": "display_data"
    }
   ],
   "source": [
    "# We will predict the missing test values using the SVD \n",
    "# with an increasing number of component (up to 20):\n",
    "\n",
    "def svd_predict(M_train_centered, M_test, k):\n",
    "    U, S, Vt = scipy.sparse.linalg.svds(M_train_centered, k=k)\n",
    "    \n",
    "    U, S, Vt = U[:, ::-1], S[::-1], Vt[::-1, :] \n",
    "\n",
    "    # We reconstruct the matrix with k components:\n",
    "    S_matrix = np.diag(S)\n",
    "    M_reconstructed = U @ S_matrix @ Vt\n",
    "    \n",
    "    # We add back the global mean to get predictions:\n",
    "    M_predicted = M_reconstructed + global_mean\n",
    "    \n",
    "    # We extract the predictions for the test set:\n",
    "    test_rows, test_cols = M_test.nonzero()\n",
    "    test_values = M_test.data\n",
    "    pred_values = M_predicted[test_rows, test_cols]\n",
    "    \n",
    "    # We compute the MSE:\n",
    "    mse = np.mean((test_values - pred_values) ** 2)\n",
    "    return mse\n",
    "\n",
    "\n",
    "# We will evaluate the performance of this approach on the test matrix \n",
    "# and plot the resulting performance as a function of the number of factors \n",
    "# of the SVD used to perform the reconstruction:\n",
    "import matplotlib.pyplot as plt\n",
    "\n",
    "max_components = 20\n",
    "mses = []\n",
    "\n",
    "for k in range(1, max_components + 1):\n",
    "    mse = svd_predict(M_train_centered, M_test, k)\n",
    "    mses.append(mse)\n",
    "    print(f\"Number of factors: {k}, MSE: {mse:.2f}\")\n",
    "\n",
    "# Plot the results\n",
    "plt.figure(figsize=(5, 3))\n",
    "plt.plot(range(1, max_components + 1), mses, marker='o', label='Test MSE')\n",
    "plt.xlabel('Number of SVD Factors')\n",
    "plt.ylabel('Mean Squared Error (MSE)')\n",
    "plt.title('Performance vs. Number of SVD Factors')\n",
    "plt.grid()\n",
    "plt.legend()\n",
    "plt.show()"
   ]
  },
  {
   "cell_type": "markdown",
   "metadata": {},
   "source": [
    "We wan see that the more we keep information, i.e. we keep a large number of factors of the SVD, the better the prediction is (the MSE decreases as the number of factors increases)."
   ]
  },
  {
   "cell_type": "markdown",
   "metadata": {},
   "source": [
    "## __Recommending using the weighted SVD__"
   ]
  },
  {
   "cell_type": "code",
   "execution_count": null,
   "metadata": {},
   "outputs": [],
   "source": []
  }
 ],
 "metadata": {
  "kernelspec": {
   "display_name": "kaggle_env",
   "language": "python",
   "name": "python3"
  },
  "language_info": {
   "codemirror_mode": {
    "name": "ipython",
    "version": 3
   },
   "file_extension": ".py",
   "mimetype": "text/x-python",
   "name": "python",
   "nbconvert_exporter": "python",
   "pygments_lexer": "ipython3",
   "version": "3.9.21"
  }
 },
 "nbformat": 4,
 "nbformat_minor": 2
}
